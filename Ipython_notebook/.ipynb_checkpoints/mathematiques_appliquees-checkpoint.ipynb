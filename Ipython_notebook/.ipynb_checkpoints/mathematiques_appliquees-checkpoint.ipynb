{
 "metadata": {
  "name": "",
  "signature": "sha256:6fd2465d619f9859527ea23c6f92de9c204cf54958f8c9e166a19171e920bfb7"
 },
 "nbformat": 3,
 "nbformat_minor": 0,
 "worksheets": [
  {
   "cells": [
    {
     "cell_type": "heading",
     "level": 1,
     "metadata": {},
     "source": [
      "Math\u00e9matiques Appliqu\u00e9es"
     ]
    },
    {
     "cell_type": "markdown",
     "metadata": {},
     "source": [
      "La plupart des probl\u00e8mes pratiques peuvent \u00eatre formul\u00e9s sous forme math\u00e9matique. La recherche de la solution analytique \u00e0 ces probl\u00e8mes n'est possible que pour certaines classes particuli\u00e8res. Par cons\u00e9quent des m\u00e9thodes num\u00e9riques doivent \u00eatre appliqu\u00e9es pour d\u00e9terminer une solution approxim\u00e9e lorsque la solution analytique est impossible. L'objectif du cours est de pr\u00e9senter le principe g\u00e9n\u00e9ral des m\u00e9thodes num\u00e9riques et d'\u00e9tudier certaines m\u00e9thodes utilis\u00e9es pour r\u00e9soudre num\u00e9riquement certains probl\u00e8mes math\u00e9matiques (interpolation, d\u00e9rivation, int\u00e9gration et r\u00e9solution des \u00e9quations diff\u00e9rentielles et int\u00e9grales)."
     ]
    },
    {
     "cell_type": "heading",
     "level": 1,
     "metadata": {},
     "source": [
      "Charg\u00e9 de cours"
     ]
    },
    {
     "cell_type": "markdown",
     "metadata": {},
     "source": [
      "[Ahmed MAIDI](http://ahmed.maidi.voila.net \"Page personnelle\")"
     ]
    },
    {
     "cell_type": "heading",
     "level": 1,
     "metadata": {},
     "source": [
      "Sp\u00e9cialit\u00e9"
     ]
    },
    {
     "cell_type": "markdown",
     "metadata": {},
     "source": [
      "Micro\u00e9lectronique (Master Acad\u00e9mique)"
     ]
    },
    {
     "cell_type": "heading",
     "level": 1,
     "metadata": {},
     "source": [
      "Volume horaire"
     ]
    },
    {
     "cell_type": "markdown",
     "metadata": {},
     "source": [
      "- Cours : 03h00\n",
      "- TP : 02h00\n",
      "\n",
      "Le TP consiste \u00e0 programmer les diff\u00e9rentes m\u00e9thodes \u00e9tudi\u00e9es au cours en utilisant le logiciel [Octave](https://www.gnu.org/software/octave/ \"Site du logiciel\").   "
     ]
    },
    {
     "cell_type": "heading",
     "level": 1,
     "metadata": {},
     "source": [
      "Programme"
     ]
    },
    {
     "cell_type": "markdown",
     "metadata": {},
     "source": [
      "- **Chapitre 1. Calcul num\u00e9rique**\n",
      "\n",
      "    - Mod\u00e9lisation math\u00e9matique des probl\u00e8mes pratiques\n",
      "    - Solutions analytique et numerique d'un probl\u00e8me math\u00e9matique\n",
      "    - D\u00e9veloppement de Taylor\n",
      "    - Sources des erreurs dans un calcul num\u00e9rique\n",
      "    - Estimation de l'erreur\n",
      "    - Notion de convergence\n",
      "    \n",
      "    \n",
      "- **Chapitre 2. Approximation de fonctions et de donn\u00e9es**\n",
      "    - Position du probl\u00e8me\n",
      "    - M\u00e9thode des coefficients ind\u00e9termin\u00e9s\n",
      "    - Polyn\u00f4me d'interpolation de Lagrange\n",
      "    - Splines\n",
      "    - Approximants de Pad\u00e9\n",
      "    - Cas de pivots \u00e9quidistants\n",
      "    - Erreur d'interpolation\n",
      "    - M\u00e9thode des moindres carr\u00e9s\n",
      "    - Extrapolation\n",
      "\n",
      "\n",
      "- **Chapitre 3. D\u00e9rivation et int\u00e9gration num\u00e9riques**\n",
      "\n",
      "    - Position du probl\u00e8me de d\u00e9rivation num\u00e9rique\n",
      "    - Construction de sch\u00e9mas de d\u00e9rivation en utilisant le d\u00e9veloppement de Taylor\n",
      "    - Construction de sch\u00e9mas de d\u00e9rivation en utilisant le polyn\u00f4me de Lagrange\n",
      "    - Exemples illustratifs\n",
      "    - Position du probl\u00e8me d'int\u00e9gration num\u00e9rique\n",
      "    - M\u00e9thodes d'int\u00e9gration num\u00e9rique\n",
      "    - Int\u00e9grales multiples\n",
      "\n",
      "\n",
      "- **Chapitre 4. R\u00e9solution des \u00e9quations alg\u00e9briques**\n",
      "\n",
      "    - Position du probl\u00e8me\n",
      "    - M\u00e9thodes de r\u00e9solution (bissection, fause position, Newton et Points fixes)\n",
      "    - Point sur la convergence des m\u00e9thodes\n",
      "    - Syst\u00e8me d'\u00e9quations\n",
      "    - Exemples illustratifs\n",
      "    \n",
      "    \n",
      "- **Chapitre 5. R\u00e9solution des \u00e9quations aux d\u00e9riv\u00e9es ordinaires**\n",
      "\n",
      "    - Poistion du probl\u00e8me\n",
      "    - M\u00e9thode du developpement de Taylor\n",
      "    - M\u00e9thode des diff\u00e9rences finies\n",
      "    - M\u00e9thode de Runge-Kutta\n",
      "    - Ordre, stabilit\u00e9 et convergence des m\u00e9thodes\n",
      "    - M\u00e9thodes Multi-pas\n",
      "    - Ordre, stabilit\u00e9 et convergence des m\u00e9thodes\n",
      "    - Cas des \u00e9quations raides\n",
      "    - Probl\u00e8mes \u00e0 conditions aux limites (m\u00e9thodes des diff\u00e9rences finies et de tir)\n",
      "\n",
      "\n",
      "- **Chapitre 6. R\u00e9solution des \u00e9quations aux d\u00e9riv\u00e9es partielles**\n",
      "\n",
      "    - Quelques exemples de syst\u00e8mesphysiques\n",
      "    - Propri\u00e9t\u00e9s des \u00e9quations aux d\u00e9riv\u00e9es partielles\n",
      "    - M\u00e9thodes des diff\u00e9rences finies\n",
      "    - Calcul automatique des d\u00e9riv\u00e9es partielles\n",
      "    - M\u00e9thode des lignes\n",
      "    - M\u00e9thodes des volumes et \u00e9l\u00e9ments finis\n",
      "\n",
      "\n",
      "- **Chapitre 7. R\u00e9solution des \u00e9quations int\u00e9grales**\n",
      "\n",
      "    - Exemple de probl\u00e8me mal pos\u00e9\n",
      "    - Equation int\u00e9grale de Fredholm de premi\u00e8re esp\u00e8ce\n",
      "    - Notion de probl\u00e8mes bien et mal pos\u00e9s\n",
      "    - M\u00e9thode de r\u00e9gularisation\n",
      "    - Application \u00e0 la r\u00e9solution approch\u00e9e des \u00e9quations int\u00e9grales de Fredholm de premi\u00e8re esp\u00e8ce\n",
      "    - R\u00e9solution d'un syst\u00e8me lin\u00e9aire mal conditionn\u00e9\n",
      "    - R\u00e9solution des \u00e9quations de convolution\n",
      "    \n",
      "    \n",
      "- **Chapitre 8. M\u00e9thode num\u00e9rique d'optimisation**\n",
      "\n",
      "    - Position du probl\u00e8me\n",
      "    - Notion de l'optimum\n",
      "    - Recherche de l'optimum d'une fonction d'une seule variable\n",
      "    - Recherche de l'optimum d'une fonction de plusieurs variables\n",
      "    - Limites des m\u00e9thodes d\u00e9terministes\n",
      "    - Introduction aux m\u00e9thodes stochastiques\n",
      "\n",
      "\n",
      "- **Chapitre 9. Introduction aux m\u00e9thodes de Monte-Carlo** \n",
      "    - Probl\u00e8me de Buffon\n",
      "    - G\u00e9n\u00e9rateurs de nombres pseudo al\u00e9atoires \u00e0 distribution uniforme\n",
      "    - Calcul de $\\pi$\n",
      "    - Calcul d'ue int\u00e9grale d\u00e9finie\n",
      "    - Int\u00e9gration de l'quation de Laplace en un point\n",
      "    - nversion d\u2019une matrice carr\u00e9e d'rdre $n$\n",
      "    "
     ]
    },
    {
     "cell_type": "heading",
     "level": 1,
     "metadata": {},
     "source": [
      "Documentation"
     ]
    },
    {
     "cell_type": "markdown",
     "metadata": {},
     "source": [
      "Liste des ouvrages, en relation avec le cours, disponibles \u00e0 la biblioth\u00e8que de la <span style=\"color: rgb(51, 51, 255);\">**Facult\u00e9 de G\u00e9nie Electrique et d'Informatique**</span> de l'universit\u00e9 <span style=\"color: rgb(51, 51, 255);\">**Mouloud MAMMERI de Tizi-Ouzou ([UMMTO](http://www.ummto.dz \"Site de l'universit\u00e9\"))**</span>."
     ]
    },
    {
     "cell_type": "markdown",
     "metadata": {},
     "source": [
      "- **Andr\u00e9 Fortain**. *Analyse num\u00e9rique pour ing\u00e9nieurs*. Editions de L'Ecole Polytechnique de Montr\u00e9al, 1995 (Cote : <span style=\"color: red;\">**C12**</span>).   \n",
      "- **Jean-Pierre CORRIOU**. *M\u00e9thodes num\u00e9riques et optimisation. Th\u00e9orie et pratique pour l'ing\u00e9nieur*. Editions Lavoisier, 2010 (Cote : <span style=\"color: red;\">**MTH 377**</span>).\n",
      "- **Alfio Quarteroni**, **Fausto Saleri** et **Paola Gervasio**. *Calcul scientifique. Cours, exercices corrig\u00e9s et illustrations en MATLAB et Octave*. Springer, 2008 (Cote : <span style=\"color: red;\">**C12**</span>). "
     ]
    },
    {
     "cell_type": "heading",
     "level": 1,
     "metadata": {},
     "source": [
      "Examens et Solutions"
     ]
    },
    {
     "cell_type": "markdown",
     "metadata": {},
     "source": [
      "[Examens et solutions](http://ahmed.maidi.voila.net/oa_examens_et_solutions.zip \"T\u00e9l\u00e9charger ici les examens et les solutions\")"
     ]
    }
   ],
   "metadata": {}
  }
 ]
}