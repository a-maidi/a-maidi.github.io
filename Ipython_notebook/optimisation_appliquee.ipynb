{
 "metadata": {
  "name": "",
  "signature": "sha256:815310c66387f32663b511f3e48095c9124adefee464ec6b97666f6b887c3afb"
 },
 "nbformat": 3,
 "nbformat_minor": 0,
 "worksheets": [
  {
   "cells": [
    {
     "cell_type": "heading",
     "level": 1,
     "metadata": {},
     "source": [
      "Optimisation Appliqu\u00e9e"
     ]
    },
    {
     "cell_type": "markdown",
     "metadata": {},
     "source": [
      "L\u2019objectif du cours est d\u2019introduire les notions de base de la th\u00e9orie de l\u2019optimisation. L\u2019objectif principal est de montrer comment mettre sous la forme math\u00e9matique d\u2019un probl\u00e8me d\u2019optimisation et comment le r\u00e9soudre en utilisant des m\u00e9thodes appropri\u00e9es (analytiques et num\u00e9riques)."
     ]
    },
    {
     "cell_type": "heading",
     "level": 1,
     "metadata": {},
     "source": [
      "Charg\u00e9 de cours"
     ]
    },
    {
     "cell_type": "markdown",
     "metadata": {},
     "source": [
      "[Ahmed MAIDI](http://ahmed.maidi.voila.net \"Page personnelle\")"
     ]
    },
    {
     "cell_type": "heading",
     "level": 1,
     "metadata": {},
     "source": [
      "Sp\u00e9cialit\u00e9"
     ]
    },
    {
     "cell_type": "markdown",
     "metadata": {},
     "source": [
      "Automatique (Master Acad\u00e9mique, Master Professionnel)"
     ]
    },
    {
     "cell_type": "heading",
     "level": 1,
     "metadata": {},
     "source": [
      "Volume horaire"
     ]
    },
    {
     "cell_type": "markdown",
     "metadata": {},
     "source": [
      "- Cours : 03h00\n",
      "- TD : 01h30"
     ]
    },
    {
     "cell_type": "heading",
     "level": 1,
     "metadata": {},
     "source": [
      "Programme"
     ]
    },
    {
     "cell_type": "markdown",
     "metadata": {},
     "source": [
      "- **Chapitre 1. G\u00e9n\u00e9ralit\u00e9s et rappels**\n",
      "    - Probl\u00e8me g\u00e9n\u00e9ral de l\u2019optimisation non lin\u00e9aire\n",
      "    - M\u00e9thodes d\u2019approche th\u00e9orique\n",
      "    - Aspect pratique du probl\u00e8me\n",
      "    - D\u00e9finition et calcul du gradient\n",
      "    - Rappel sur les matrices d\u00e9finies positives\n",
      "    - Ensembles et fonctions convexes\n",
      "    \n",
      "    \n",
      "- **Chapitre 2. Recherche d\u2019un minimum sans contraintes**\n",
      "    - Condition du premier ordre\n",
      "    - Condition du second ordre\n",
      "    - Fonctions convexes\n",
      "    - Applications aux fonctions quadratiques\n",
      "    - M\u00e9thodes it\u00e9ratives de recherche\n",
      "    - Convergence des m\u00e9thodes it\u00e9ratives\n",
      "\n",
      "\n",
      "- **Chapitre 3. Recherche d\u2019un minimum en pr\u00e9sence de contraintes \u00e9galit\u00e9**\n",
      "    - Condition du premier ordre\n",
      "    - Condition du second ordre\n",
      "    - Formule du minimax\n",
      "    - Fonctions convexes\n",
      "    - M\u00e9thode du gradient\n",
      "    - M\u00e9thode de Newton\n",
      "    - Fonction de p\u00e9nalisation\n",
      "    \n",
      "\n",
      "- **Chapitre 4. Recherche d\u2019un minimum en pr\u00e9sence de contraintes in\u00e9galit\u00e9**\n",
      "    - Condition du premier ordre\n",
      "    - Condition du second ordre\n",
      "    - Etablissement directe des conditions\n",
      "    - Sensibilit\u00e9 de l\u2019optimum\n",
      "    - Fonctions convexes et concaves\n",
      "    - Formule minimax\n",
      "    - Algorithmes de recherche d\u2019un minimum\n",
      "    - Programmation lin\u00e9aire\n",
      "\n",
      "    \n",
      "- **Chapitre 5. Recherche d\u2019un minimum en pr\u00e9sence du bruit**\n",
      "    - Formulation du probl\u00e8me\n",
      "    - Conditions th\u00e9oriques d\u2019optimalit\u00e9\n",
      "    - Principes des m\u00e9thodes it\u00e9ratives (cas r\u00e9gulier et cas s\u00e9quentiel)\n",
      "    - Analyse des algorithmes stationnaires\n",
      "    - Algorithmes non stationnaires \n",
      "    - Conditions th\u00e9oriques de convergence\n",
      "\n",
      "\n",
      "- **Chapitre 6. Introduction \u00e0 l\u2019optimisation globale**\n",
      "    - Introduction\n",
      "    - M\u00e9thodes d\u00e9terministes\n",
      "    - M\u00e9thodes stochastiques\n",
      "    \n",
      "\n",
      "- **Chapitre 7. Introduction \u00e0 l\u2019optimisation multi-objectif**\n",
      "    - Concepts de base et m\u00e9thodes de recherche de la solution\n",
      "    - M\u00e9thodes p-normes\n",
      "    - M\u00e9thode it\u00e9ratives\n",
      "\n",
      "\n",
      "- **Chapitre 8. Application \u00e0 des probl\u00e8mes de commande**\n",
      "    - Optimisation des consignes d\u2019un syst\u00e8me de commande\n",
      "    - Identification des syst\u00e8mes dynamiques\n",
      "    - Conception de correcteurs optimaux\n",
      "\n",
      "\n",
      "- **Chapitre 9. Introduction \u00e0 l\u2019optimisation dynamique**\n",
      "    - Formulation du probl\u00e8me\n",
      "    - Calcul des variations\n",
      "    - Principe du minimum\n",
      "    - Programmation dynamique\n",
      "    - Commande lin\u00e9aire quadratique\n"
     ]
    },
    {
     "cell_type": "heading",
     "level": 1,
     "metadata": {},
     "source": [
      "Documentation"
     ]
    },
    {
     "cell_type": "markdown",
     "metadata": {},
     "source": [
      "Liste des ouvrages, en relation avec le cours, disponibles \u00e0 la biblioth\u00e8que de la <span style=\"color: rgb(51, 51, 255);\">**Facult\u00e9 de G\u00e9nie Electrique et d'Informatique**</span> de l'universit\u00e9 <span style=\"color: rgb(51, 51, 255);\">**Mouloud MAMMERI de Tizi-Ouzou ([UMMTO](http://www.ummto.dz \"Site de l'universit\u00e9\"))**</span>."
     ]
    },
    {
     "cell_type": "markdown",
     "metadata": {},
     "source": [
      "- **Ma\u00eftine BERGOUNIOUX**. *Optimisation et contr\u00f4le des syst\u00e8mes lin\u00e9aires*. Editions Dunod, 2001 (Cote : <span style=\"color: red;\">**C12**</span>).\n",
      "- **Michel BIERLAIRE**. *Introduction \u00e0 l'optimisation diff\u00e9rentiable*. Presses Polytechniques et Universitaires Romandes, 2006 (Cote : <span style=\"color: red;\">**C12**</span>).\n",
      "- **Jean-Pierre CORRIOU**. *M\u00e9thodes num\u00e9riques et optimisation. Th\u00e9orie et pratique pour l'ing\u00e9nieur*. Editions Lavoisier, 2010 (Cote : <span style=\"color: red;\">**MTH 377**</span>).\n",
      "- **Hisham ABOU-KENDIL**. *La commande optimale des syst\u00e8mes dynamiques*. Editions Lavoisier, 2004 (Cote : <span style=\"color: red;\">**C12**</span>). \n"
     ]
    },
    {
     "cell_type": "heading",
     "level": 1,
     "metadata": {},
     "source": [
      "Examens et Solutions"
     ]
    },
    {
     "cell_type": "markdown",
     "metadata": {},
     "source": [
      "[Examens et solutions](http://ahmed.maidi.voila.net/oa_examens_et_solutions.zip \"T\u00e9l\u00e9charger ici les examens et les solutions\")"
     ]
    }
   ],
   "metadata": {}
  }
 ]
}