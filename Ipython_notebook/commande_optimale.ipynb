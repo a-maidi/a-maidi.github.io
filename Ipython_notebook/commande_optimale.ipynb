{
 "metadata": {
  "name": "",
  "signature": "sha256:fb1331f7146d1611f3c8e34531e117ab86807f93edee7624b69413c3387f440f"
 },
 "nbformat": 3,
 "nbformat_minor": 0,
 "worksheets": [
  {
   "cells": [
    {
     "cell_type": "heading",
     "level": 1,
     "metadata": {},
     "source": [
      "Commande Optimale"
     ]
    },
    {
     "cell_type": "markdown",
     "metadata": {},
     "source": [
      "Le cours constitue une introduction g\u00e9n\u00e9rale \u00e0 la commande optimale (optimisation dynamique). L\u2019objectif principale est de montrer comment formuler math\u00e9matique un probl\u00e8me de commande optimale, \u00e9tudier l\u2019existence de la solution, et r\u00e9soudre en utilisant des m\u00e9thodes appropri\u00e9es."
     ]
    },
    {
     "cell_type": "heading",
     "level": 1,
     "metadata": {},
     "source": [
      "Charg\u00e9 de cours"
     ]
    },
    {
     "cell_type": "markdown",
     "metadata": {},
     "source": [
      "[Ahmed MAIDI](http://ahmed.maidi.voila.net \"Page personnelle\")"
     ]
    },
    {
     "cell_type": "heading",
     "level": 1,
     "metadata": {},
     "source": [
      "Sp\u00e9cialit\u00e9"
     ]
    },
    {
     "cell_type": "markdown",
     "metadata": {},
     "source": [
      "Automatique (Master Acad\u00e9mique)"
     ]
    },
    {
     "cell_type": "heading",
     "level": 1,
     "metadata": {},
     "source": [
      "Volume horaire"
     ]
    },
    {
     "cell_type": "markdown",
     "metadata": {},
     "source": [
      "- Cours : 03h00\n",
      "- TD : 01h30"
     ]
    },
    {
     "cell_type": "heading",
     "level": 1,
     "metadata": {},
     "source": [
      "Programme"
     ]
    },
    {
     "cell_type": "markdown",
     "metadata": {},
     "source": [
      "- **Chapitre 1. Formulation d'un probl\u00e8me de commande optimale**\n",
      "    - Probl\u00e8me de commande optimale\n",
      "    - Formulation d'un probl\u00e8me de commande\n",
      "    - Forme math\u00e9matique d'un probl\u00e8me de commande optimale\n",
      "    - Exsitence de la solution\n",
      "    - Obtention de la commande optimale\n",
      "    \n",
      "    \n",
      "- **Chapitre 2. Calcul des variations**\n",
      "    - Rappels sur le calcul des varaitions\n",
      "    - Calcul des variations\n",
      "    - Recherche l'optimum d'une fonctionnelle\n",
      "        - Etat final impos\u00e9\n",
      "        - Etat final libre\n",
      "    - Application du calcul des variations \u00e0 la commande optimale\n",
      "        - M\u00e9thode directe\n",
      "        - M\u00e9thode indirecte\n",
      "    - Exemples d'application\n",
      "\n",
      "\n",
      "- **Chapitre 3. Principe du minimum**\n",
      "    - Probl\u00e8me de commande optimale\n",
      "    - Principe du minimum\n",
      "    - Exemple d\u2019application\n",
      "    - D\u00e9termination de la commande optimale sous forme d\u00e9un retour d'\u00e9tat\n",
      "    - R\u00e9solution num\u00e9rique des conditions de stationnarit\u00e9\n",
      "\n",
      "\n",
      "- **Chapitre 4. Programmation dynamique**\n",
      "    - Principe d'optimalit\u00e9 de Bellman\n",
      "    - Equation fonctionnelle de Belman\n",
      "        - Equation de transition (discr\u00e9tisation du mod\u00e8le continu)\n",
      "        - Discr\u00e9tisation du crit\u00e8re de performance\n",
      "    - Equation d'Hamilton-Jacobi-Bellman\n",
      "\n",
      "    \n",
      "- **Chapitre 5. Commande lin\u00e9aire quadratique (LQ)**\n",
      "    - Solution g\u00e9n\u00e9ral\n",
      "    - R\u00e9solution de l'\u00e9quation de Ricatti\n",
      "    - Robustesse de la comande lin\u00e9aire quadratique\n",
      "    - Exemple d'application \n",
      "\n",
      "\n",
      "- **Chapitre 6. Commande lin\u00e9aire quadratique Gaussienne (LQG)**\n",
      "\n",
      "    - Syst\u00e8mes \u00e0 \u00e9tat non compl\u00e8tement accessible\n",
      "    - Position du probl\u00e8me\n",
      "    - Synth\u00e8se d'une commande LQG\n",
      "        - Retour d'\u00e9tat optimale (LQR)\n",
      "        - Filtre de Kalman\n",
      "    - Commande LQG\n",
      "    - Synth\u00e8se de la commande LQG/LTR (Loop Transfert Recovery)\n",
      "        - Hypoth\u00e8ses d'application\n",
      "        - Recouvrement en entr\u00e9e\n",
      "        - Recouvrement en sortie"
     ]
    },
    {
     "cell_type": "heading",
     "level": 1,
     "metadata": {},
     "source": [
      "Documentation"
     ]
    },
    {
     "cell_type": "markdown",
     "metadata": {},
     "source": [
      "Liste des ouvrages, en relation avec le cours, disponibles \u00e0 la biblioth\u00e8que de la <span style=\"color: rgb(51, 51, 255);\">**Facult\u00e9 de G\u00e9nie Electrique et d'Informatique**</span> de l'universit\u00e9 <span style=\"color: rgb(51, 51, 255);\">**Mouloud MAMMERI de Tizi-Ouzou ([UMMTO](http://www.ummto.dz \"Site de l'universit\u00e9\"))**</span>."
     ]
    },
    {
     "cell_type": "markdown",
     "metadata": {},
     "source": [
      "- **Ma\u00eftine BERGOUNIOUX**. *Optimisation et contr\u00f4le des syst\u00e8mes lin\u00e9aires*. Editions Dunod, 2001 (Cote : <span style=\"color: red;\">**C12**</span>).\n",
      "- **Hisham ABOU-KENDIL**. *La commande optimale des syst\u00e8mes dynamiques*. Editions Lavoisier, 2004 (Cote : <span style=\"color: red;\">**C12**</span>). \n"
     ]
    },
    {
     "cell_type": "heading",
     "level": 1,
     "metadata": {},
     "source": [
      "Examens et Solutions"
     ]
    },
    {
     "cell_type": "markdown",
     "metadata": {},
     "source": [
      "[Examens et solutions](http://ahmed.maidi.voila.net/co_examens_et_solutions.zip \"T\u00e9l\u00e9charger ici les examens et les solutions\")"
     ]
    }
   ],
   "metadata": {}
  }
 ]
}