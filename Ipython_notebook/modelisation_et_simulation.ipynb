{
 "metadata": {
  "name": "",
  "signature": "sha256:071f240de1b07d65b87e4c489997887866d7836a25dfcc8eb92187a4d1efb09f"
 },
 "nbformat": 3,
 "nbformat_minor": 0,
 "worksheets": [
  {
   "cells": [
    {
     "cell_type": "heading",
     "level": 1,
     "metadata": {},
     "source": [
      "Mod\u00e9lisation et Simulation"
     ]
    },
    {
     "cell_type": "markdown",
     "metadata": {},
     "source": [
      "L'objectif du cours consiste \u00e0 donner les notions de base relatives aux syst\u00e8mes dynamiques et leur mod\u00e9lisation en utilisant quelques approches (mod\u00e9lisation physique, les Bond Graphs et le principe de Lagrange). Le cours introduit aussi des g\u00e9n\u00e9ralit\u00e9s sur la simulation (r\u00e9solution num\u00e9rique du mod\u00e8le math\u00e9matique) du comportement dynamique d'un syst\u00e8me physique.   "
     ]
    },
    {
     "cell_type": "heading",
     "level": 1,
     "metadata": {},
     "source": [
      "Charg\u00e9 de cours"
     ]
    },
    {
     "cell_type": "markdown",
     "metadata": {},
     "source": [
      "[Ahmed MAIDI](http://ahmed.maidi.voila.net \"Page personnelle\")"
     ]
    },
    {
     "cell_type": "heading",
     "level": 1,
     "metadata": {},
     "source": [
      "Sp\u00e9cialit\u00e9"
     ]
    },
    {
     "cell_type": "markdown",
     "metadata": {},
     "source": [
      "Micro\u00e9lectronique (Master Acad\u00e9mique)"
     ]
    },
    {
     "cell_type": "heading",
     "level": 1,
     "metadata": {},
     "source": [
      "Volume horaire"
     ]
    },
    {
     "cell_type": "markdown",
     "metadata": {},
     "source": [
      "- Cours : 01h30\n",
      "- TD : 01h30"
     ]
    },
    {
     "cell_type": "heading",
     "level": 1,
     "metadata": {},
     "source": [
      "Programme"
     ]
    },
    {
     "cell_type": "markdown",
     "metadata": {},
     "source": [
      "- **Chapitre 1. G\u00e9n\u00e9ralit\u00e9s sur les syst\u00e8mes dynamiques**\n",
      "\n",
      "    - Notion d'un syst\u00e8me dynamique\n",
      "    - Notion d'un mod\u00e8le math\u00e9matique\n",
      "    - Utilit\u00e9 d'un mod\u00e8le math\u00e9matique\n",
      "    - Obtention d'un mod\u00e8le math\u00e9matique\n",
      "    - Classification des mod\u00e8le math\u00e9matiques\n",
      "    \n",
      "    \n",
      "- **Chapitre 2. Mod\u00e9lisation physique**\n",
      "\n",
      "    - Variables caract\u00e9ristiques d'un syst\u00e8me dynamique\n",
      "    - Notion du bilan\n",
      "    - Mod\u00e9lisation des syst\u00e8mes \u00e9l\u00e9ctriques\n",
      "    - Mod\u00e9lisation des syst\u00e8mes m\u00e9caniques\n",
      "    - Mod\u00e9lisation des syst\u00e8mes hydrauliques\n",
      "\n",
      "\n",
      "- **Chapitre 3. Formalise de Lagrange**\n",
      "\n",
      "    - Repr\u00e9sentation unifi\u00e9 des syst\u00e8mes\n",
      "    - Variables fondamentales\n",
      "    - Composants de base d'un syst\u00e8me\n",
      "    - Equation de Lagrange\n",
      "    - Syst\u00e8mes avec contraintes\n",
      "    - Exemples illusratifs\n",
      "   \n",
      "\n",
      "- **Chapitre 4. Bond Graph**\n",
      "\n",
      "    - Bilan de puissance\n",
      "    - Elements\n",
      "    - Jonctions\n",
      "    - Transformateurs et gyrateurs\n",
      "    - M\u00e9thode de construction d'un Bon Graph\n",
      "    - R\u00e8gles de simplification\n",
      "    - Causalit\u00e9 \n",
      "    - D\u00e9duction du mod\u00e8le math\u00e9matique \u00e0 partir du Bond Graph\n",
      "    - Exemples illustratif (m\u00e9caniques et \u00e9lectriques)\n",
      "    \n",
      "    \n",
      "- **Chapitre 5. Mod\u00e8le lin\u00e9aire**\n",
      "\n",
      "    - Propri\u00e9t\u00e9s d'un mod\u00e8le lin\u00e9aire\n",
      "    - Points de fonctionnement et d'\u00e9quilibre\n",
      "    - Principe de la lin\u00e9airisation\n",
      "    - Exemple illustratif\n",
      "\n",
      "\n",
      "- **Chapitre 6. Mod\u00e8le adimensionnel**\n",
      "    - Grandeur physique\n",
      "    - Normalisation d'une grandeur physique (d\u00e9dimensionnement)\n",
      "    - Utilit\u00e9 d'un mod\u00e8le adimensionnel\n",
      "    - Construction de variables sans dimensions\n",
      "    - Exemples illustratifs\n",
      "\n",
      "\n",
      "- **Chapitre 7. Simulation des syst\u00e8mes dynamiques**\n",
      "    - Exp\u00e9rience et simulation\n",
      "    - Avantages de la simulation\n",
      "    - Simulations analogique et num\u00e9rique\n",
      "    - R\u00e9solutions num\u00e9riques des \u00e9quations diff\u00e9rentielles\n",
      "    - Etude math\u00e9matique du mod\u00e8le et choix de la m\u00e9thode de r\u00e9solution\n",
      "    - Outils de simulation (programmation et logiciels sp\u00e9cialis\u00e9s)\n",
      "    - Exemples d'application avec [Octave](https://www.gnu.org/software/octave/ \"Site du logiciel\")\n",
      "    - Analyse des propri\u00e9t\u00e9s d'un syst\u00e8me (stabilit\u00e9, bifurcation, chao et dynamique des attracteurs) \n",
      "   "
     ]
    },
    {
     "cell_type": "heading",
     "level": 1,
     "metadata": {},
     "source": [
      "Documentation"
     ]
    },
    {
     "cell_type": "markdown",
     "metadata": {},
     "source": [
      "Liste des ouvrages, en relation avec le cours, disponibles \u00e0 la biblioth\u00e8que de la <span style=\"color: rgb(51, 51, 255);\">**Facult\u00e9 de G\u00e9nie Electrique et d'Informatique**</span> de l'universit\u00e9 <span style=\"color: rgb(51, 51, 255);\">**Mouloud MAMMERI de Tizi-Ouzou ([UMMTO](http://www.ummto.dz \"Site de l'universit\u00e9\"))**</span>."
     ]
    },
    {
     "cell_type": "markdown",
     "metadata": {},
     "source": [
      "- **Michel VERGE** et **Daniel Jaume**. *Mod\u00e9lisation structur\u00e9e des syst\u00e8mes avec les Bond Graphs*. Editions Technip, 2004 (Cote : <span style=\"color: red;\">**Auto 77**</span>).\n"
     ]
    },
    {
     "cell_type": "heading",
     "level": 1,
     "metadata": {},
     "source": [
      "Examens et Solutions"
     ]
    },
    {
     "cell_type": "markdown",
     "metadata": {},
     "source": [
      "[Examens et solutions](http://ahmed.maidi.voila.net/oa_examens_et_solutions.zip \"T\u00e9l\u00e9charger ici les examens et les solutions\")"
     ]
    }
   ],
   "metadata": {}
  }
 ]
}