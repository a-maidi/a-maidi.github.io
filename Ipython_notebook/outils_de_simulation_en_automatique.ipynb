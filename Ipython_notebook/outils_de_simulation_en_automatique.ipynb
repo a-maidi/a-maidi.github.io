{
 "metadata": {
  "name": "",
  "signature": "sha256:9e9c472999c167db07cbe72cb2f22c163ac9d88a7ae34605a01f2dac9c9bfb5e"
 },
 "nbformat": 3,
 "nbformat_minor": 0,
 "worksheets": [
  {
   "cells": [
    {
     "cell_type": "heading",
     "level": 1,
     "metadata": {},
     "source": [
      "Outils de Simulation en Automatique"
     ]
    },
    {
     "cell_type": "markdown",
     "metadata": {},
     "source": [
      "Le cours a pour objectifs de pr\u00e9senter certaines applications sp\u00e9cialis\u00e9es (logiciels) utilis\u00e9es pour la mod\u00e9lisation, l\u2019identification et l\u2019analyse des syst\u00e8mes dynamiques, et la synth\u00e8se des syst\u00e8mes de commande. Ces applications seront utilis\u00e9es durant le processus de conception d\u2019un syst\u00e8me de commande allant de l\u2019\u00e9tape de mod\u00e9lisation jusqu\u2019\u00e0 l\u2019impl\u00e9mentation pratique, sur un PC, d\u2019un syst\u00e8me de commande. "
     ]
    },
    {
     "cell_type": "heading",
     "level": 1,
     "metadata": {},
     "source": [
      "Charg\u00e9 de cours"
     ]
    },
    {
     "cell_type": "markdown",
     "metadata": {},
     "source": [
      "[Ahmed MAIDI](http://ahmed.maidi.voila.net \"Page personnelle\")"
     ]
    },
    {
     "cell_type": "heading",
     "level": 1,
     "metadata": {},
     "source": [
      "Sp\u00e9cialit\u00e9"
     ]
    },
    {
     "cell_type": "markdown",
     "metadata": {},
     "source": [
      "Automatique (Master Professionnel)"
     ]
    },
    {
     "cell_type": "heading",
     "level": 1,
     "metadata": {},
     "source": [
      "Volume horaire"
     ]
    },
    {
     "cell_type": "markdown",
     "metadata": {},
     "source": [
      "- Cours avec application directe sur machines : 02h00"
     ]
    },
    {
     "cell_type": "heading",
     "level": 1,
     "metadata": {},
     "source": [
      "Programme"
     ]
    },
    {
     "cell_type": "markdown",
     "metadata": {},
     "source": [
      "- **Chapitre 1. Introduction au calcul scientifique**\n",
      "\n",
      "    - Essais exp\u00e9rimentaux et simulation num\u00e9rique.\n",
      "    - Mod\u00e9lisation math\u00e9matique.\n",
      "    - Etudes math\u00e9matiques des \u00e9quations.\n",
      "    - Approximation des \u00e9quations.\n",
      "    - Des \u00e9quations math\u00e9matiques au programme informatique.\n",
      "    - R\u00e9solution num\u00e9rique et traitement des r\u00e9sultats. \n",
      "\n",
      "\n",
      "- **Chapitre 2. Conception d\u2019un syst\u00e8me de commande**\n",
      "\n",
      "    - Structure d\u2019un syst\u00e8me de commande.\n",
      "    - Objectifs d'un syst\u00e8me de commande\n",
      "    - Etapes de conception d\u2019un syst\u00e8me de commande.\n",
      "    - Strat\u00e9gies d\u2019impl\u00e9mentation d\u2019un syst\u00e8me de commande.\n",
      "    - Evaluations des performances d\u2019un syst\u00e8me de commande. \n",
      "\n",
      "\n",
      "- **Chapitre 3. Mod\u00e9lisation et simulation des syst\u00e8mes**\n",
      "\n",
      "    - Mod\u00e9lisation math\u00e9matique.\n",
      "    - Mod\u00e9lisation exp\u00e9rimentale en utilisant une application sp\u00e9cialis\u00e9e.\n",
      "    - Simulation en utilisant un solveur d\u2019\u00e9quations diff\u00e9rentielles.\n",
      "    - Simulation en utilisant un langage graphique.\n",
      "    - Simulation en utilisant des biblioth\u00e8ques sp\u00e9cialis\u00e9es. \n",
      "\n",
      "\n",
      "- **Chapitre 4. Analyse des syst\u00e8mes dynamiques**\n",
      "\n",
      "    - Analyse dans le domaine temporel.\n",
      "    - Analyse dans le domaine fr\u00e9quentiel.\n",
      "    - Utilisation des applications sp\u00e9cialis\u00e9es.\n",
      "    - Cas des syst\u00e8mes non lin\u00e9aires. \n",
      "\n",
      "\n",
      "- **Chapitre 5. Synth\u00e8se des syst\u00e8mes de commande**\n",
      "\n",
      "    - Structure g\u00e9n\u00e9rale d\u2019un syst\u00e8me de commande.\n",
      "    - Commande par retour de sortie.\n",
      "    - Commande par retour d\u2019\u00e9tat.\n",
      "    - Utilisation des applications spacilis\u00e9es pour la synth\u00e8se de correcteurs.\n",
      "\n",
      "\n",
      "- **Chapitre 6. Impl\u00e9mentation d\u2019un syst\u00e8me de commande**\n",
      "\n",
      "    - Syst\u00e8me temps r\u00e9el\n",
      "    - Caract\u00e9ristiques d\u2019un syst\u00e8me temps r\u00e9el.\n",
      "    - Configuration entr\u00e9e-sortie.\n",
      "    - Impl\u00e9mentation d\u2019un correcteur PID."
     ]
    },
    {
     "cell_type": "heading",
     "level": 1,
     "metadata": {},
     "source": [
      "Documentation"
     ]
    },
    {
     "cell_type": "markdown",
     "metadata": {},
     "source": [
      "Liste des ouvrages, en relation avec le cours, disponibles \u00e0 la biblioth\u00e8que de la <span style=\"color: rgb(51, 51, 255);\">**Facult\u00e9 de G\u00e9nie Electrique et d'Informatique**</span> de l'universit\u00e9 <span style=\"color: rgb(51, 51, 255);\">**Mouloud MAMMERI de Tizi-Ouzou ([UMMTO](http://www.ummto.dz \"Site de l'universit\u00e9\"))**</span>."
     ]
    },
    {
     "cell_type": "markdown",
     "metadata": {},
     "source": [
      "- **Nadia MARTAJ** et **Mohand MOKHTARI**. *MATLAB R2009, SIMULINK et STATEFLOW pour Ing\u00e9nieurs*. Springer, 2010 (Cote : <span style=\"color: red;\">**C12**</span>).\n",
      "- **Mohand MOKHTARI** et **Nadia MARTAJ**. *Electronique Appliqu\u00e9e, Electrom\u00e9canique sous Simscape & SimPowerSystems (Matlab/Simulink)*. Springer, 2012 (Cote : <span style=\"color: red;\">**C12**</span>).\n",
      "- **Maurice Rivoire** et **Jean-Louis FERRIER**. *MATLAB, SIMULINK, STATEFLOW avec des exercices d\u2019automatique r\u00e9solus*. Editions Technip, 2001 (Cote : <span style=\"color: red;\">**C12**</span>)."
     ]
    }
   ],
   "metadata": {}
  }
 ]
}